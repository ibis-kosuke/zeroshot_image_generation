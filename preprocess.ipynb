{
 "cells": [
  {
   "cell_type": "code",
   "execution_count": 1,
   "metadata": {},
   "outputs": [],
   "source": [
    "import os\n",
    "import pickle as pkl\n",
    "import numpy as np\n"
   ]
  },
  {
   "cell_type": "code",
   "execution_count": 2,
   "metadata": {},
   "outputs": [],
   "source": [
    "data_dir = \"/data/unagi0/ktokitake\"\n",
    "birds_dir = os.path.join(data_dir, \"birds_attngan\")\n",
    "xlsa_dir = os.path.join(data_dir, \"xlsa17\")\n"
   ]
  },
  {
   "cell_type": "code",
   "execution_count": 3,
   "metadata": {},
   "outputs": [
    {
     "name": "stdout",
     "output_type": "stream",
     "text": [
      "now_processing  0\n",
      "now_processing  1\n",
      "now_processing  2\n",
      "now_processing  3\n",
      "now_processing  4\n",
      "now_processing  5\n",
      "now_processing  6\n",
      "now_processing  7\n",
      "now_processing  8\n",
      "now_processing  9\n",
      "now_processing  10\n",
      "now_processing  11\n",
      "now_processing  12\n",
      "now_processing  13\n",
      "now_processing  14\n",
      "now_processing  15\n",
      "now_processing  16\n",
      "now_processing  17\n",
      "now_processing  18\n",
      "now_processing  19\n",
      "now_processing  20\n",
      "now_processing  21\n",
      "now_processing  22\n",
      "now_processing  23\n",
      "now_processing  24\n",
      "now_processing  25\n",
      "now_processing  26\n",
      "now_processing  27\n",
      "now_processing  28\n",
      "now_processing  29\n",
      "now_processing  30\n",
      "now_processing  31\n",
      "now_processing  32\n",
      "now_processing  33\n",
      "now_processing  34\n",
      "now_processing  35\n",
      "now_processing  36\n",
      "now_processing  37\n",
      "now_processing  38\n",
      "now_processing  39\n",
      "now_processing  40\n",
      "now_processing  41\n",
      "now_processing  42\n",
      "now_processing  43\n",
      "now_processing  44\n",
      "now_processing  45\n",
      "now_processing  46\n",
      "now_processing  47\n",
      "now_processing  48\n",
      "now_processing  49\n",
      "now_processing  50\n",
      "now_processing  51\n",
      "now_processing  52\n",
      "now_processing  53\n",
      "now_processing  54\n",
      "now_processing  55\n",
      "now_processing  56\n",
      "now_processing  57\n",
      "now_processing  58\n",
      "now_processing  59\n",
      "now_processing  60\n",
      "now_processing  61\n",
      "now_processing  62\n",
      "now_processing  63\n",
      "now_processing  64\n",
      "now_processing  65\n",
      "now_processing  66\n",
      "now_processing  67\n",
      "now_processing  68\n",
      "now_processing  69\n",
      "now_processing  70\n",
      "now_processing  71\n",
      "now_processing  72\n",
      "now_processing  73\n",
      "now_processing  74\n",
      "now_processing  75\n",
      "now_processing  76\n",
      "now_processing  77\n",
      "now_processing  78\n",
      "now_processing  79\n",
      "now_processing  80\n",
      "now_processing  81\n",
      "now_processing  82\n",
      "now_processing  83\n",
      "now_processing  84\n",
      "now_processing  85\n",
      "now_processing  86\n",
      "now_processing  87\n",
      "now_processing  88\n",
      "now_processing  89\n",
      "now_processing  90\n",
      "now_processing  91\n",
      "now_processing  92\n",
      "now_processing  93\n",
      "now_processing  94\n",
      "now_processing  95\n",
      "now_processing  96\n",
      "now_processing  97\n",
      "now_processing  98\n",
      "now_processing  99\n",
      "now_processing  100\n",
      "now_processing  101\n",
      "now_processing  102\n",
      "now_processing  103\n",
      "now_processing  104\n",
      "now_processing  105\n",
      "now_processing  106\n",
      "now_processing  107\n",
      "now_processing  108\n",
      "now_processing  109\n",
      "now_processing  110\n",
      "now_processing  111\n",
      "now_processing  112\n",
      "now_processing  113\n",
      "now_processing  114\n",
      "now_processing  115\n",
      "now_processing  116\n",
      "now_processing  117\n",
      "now_processing  118\n",
      "now_processing  119\n",
      "now_processing  120\n",
      "now_processing  121\n",
      "now_processing  122\n",
      "now_processing  123\n",
      "now_processing  124\n",
      "now_processing  125\n",
      "now_processing  126\n",
      "now_processing  127\n",
      "now_processing  128\n",
      "now_processing  129\n",
      "now_processing  130\n",
      "now_processing  131\n",
      "now_processing  132\n",
      "now_processing  133\n",
      "now_processing  134\n",
      "now_processing  135\n",
      "now_processing  136\n",
      "now_processing  137\n",
      "now_processing  138\n",
      "now_processing  139\n",
      "now_processing  140\n",
      "now_processing  141\n",
      "now_processing  142\n",
      "now_processing  143\n",
      "now_processing  144\n",
      "now_processing  145\n",
      "now_processing  146\n",
      "now_processing  147\n",
      "now_processing  148\n",
      "now_processing  149\n",
      "now_processing  150\n",
      "now_processing  151\n",
      "now_processing  152\n",
      "now_processing  153\n",
      "now_processing  154\n",
      "now_processing  155\n",
      "now_processing  156\n",
      "now_processing  157\n",
      "now_processing  158\n",
      "now_processing  159\n",
      "now_processing  160\n",
      "now_processing  161\n",
      "now_processing  162\n",
      "now_processing  163\n",
      "now_processing  164\n",
      "now_processing  165\n",
      "now_processing  166\n",
      "now_processing  167\n",
      "now_processing  168\n",
      "now_processing  169\n",
      "now_processing  170\n",
      "now_processing  171\n",
      "now_processing  172\n",
      "now_processing  173\n",
      "now_processing  174\n",
      "now_processing  175\n",
      "now_processing  176\n",
      "now_processing  177\n",
      "now_processing  178\n",
      "now_processing  179\n",
      "now_processing  180\n",
      "now_processing  181\n",
      "now_processing  182\n",
      "now_processing  183\n",
      "now_processing  184\n",
      "now_processing  185\n",
      "now_processing  186\n",
      "now_processing  187\n",
      "now_processing  188\n",
      "now_processing  189\n",
      "now_processing  190\n",
      "now_processing  191\n",
      "now_processing  192\n",
      "now_processing  193\n",
      "now_processing  194\n",
      "now_processing  195\n",
      "now_processing  196\n",
      "now_processing  197\n",
      "now_processing  198\n",
      "now_processing  199\n"
     ]
    }
   ],
   "source": [
    "images={}\n",
    "\n",
    "images_dir= birds_dir+\"/CUB_200_2011/images\"\n",
    "for ind, dir in enumerate(os.listdir(images_dir)):\n",
    "    print(\"now_processing \", ind)\n",
    "    images[dir] = os.listdir(images_dir+\"/%s\" % dir)"
   ]
  },
  {
   "cell_type": "code",
   "execution_count": 5,
   "metadata": {},
   "outputs": [],
   "source": [
    "trainval_classes=[]\n",
    "with open(xlsa_dir+\"/data/CUB/trainvalclasses.txt\", \"r\") as f:\n",
    "        for line in f:\n",
    "            line = line.strip(\"\\n\")\n",
    "            trainval_classes.append(line)\n",
    "            "
   ]
  },
  {
   "cell_type": "code",
   "execution_count": 6,
   "metadata": {},
   "outputs": [],
   "source": [
    "test_classes=[]\n",
    "with open(xlsa_dir+\"/data/CUB/testclasses.txt\", \"r\" ) as f:\n",
    "    for line in f:\n",
    "        line = line.strip(\"\\n\")\n",
    "        test_classes.append(line)"
   ]
  },
  {
   "cell_type": "code",
   "execution_count": 7,
   "metadata": {},
   "outputs": [],
   "source": [
    "dirs = list(images.keys())\n",
    "train_seen = []\n",
    "test_seen =[]\n",
    "test_unseen = []\n",
    "for d in dirs:\n",
    "    if(d in trainval_classes):\n",
    "        num = len(images[d])\n",
    "        add_train_files = images[d][:int(num*0.99)]\n",
    "        add_test_files = images[d][int(num*0.99):]\n",
    "        add_train_files_new = list(map(lambda x: \"%s/\" % d+x, add_train_files))\n",
    "        add_train_files_new = list(map(lambda x: x[:-4], add_train_files_new))\n",
    "        add_test_files_new = list(map(lambda x: \"%s/\" % d+x, add_test_files))\n",
    "        add_test_files_new = list(map(lambda x: x[:-4], add_test_files_new))\n",
    "        train_seen.extend(add_train_files_new)\n",
    "        test_seen.extend(add_test_files_new)\n",
    "    else:\n",
    "        add_test_unseen = list(map(lambda x: \"%s/\" % d+x, images[d]))\n",
    "        add_test_unseen_new = list(map(lambda x: x[:-4], add_test_unseen))\n",
    "        test_unseen.extend(add_test_unseen_new)\n"
   ]
  },
  {
   "cell_type": "code",
   "execution_count": 12,
   "metadata": {},
   "outputs": [
    {
     "name": "stdout",
     "output_type": "stream",
     "text": [
      "8671\n",
      "150\n",
      "2967\n",
      "002.Laysan_Albatross\n",
      "069.Rufous_Hummingbird/Rufous_Hummingbird_0031_58391\n",
      "150\n",
      "50\n",
      "043.Yellow_bellied_Flycatcher\n"
     ]
    }
   ],
   "source": [
    "print(len(train_seen))\n",
    "print(len(test_seen))\n",
    "print(len(test_unseen))\n",
    "print(trainval_classes[0])\n",
    "print(train_seen[0])\n",
    "print(len(trainval_classes))\n",
    "print(len(test_classes))\n",
    "print(test_classes[0])\n"
   ]
  },
  {
   "cell_type": "code",
   "execution_count": 18,
   "metadata": {},
   "outputs": [],
   "source": [
    "test_data_dic={}\n",
    "cls_nums = []\n",
    "for cls in test_classes:\n",
    "    cls_num = int(cls.split(\".\")[0])\n",
    "    cls_nums.append(cls_num)\n",
    "test_data_dic['classes'] = test_classes\n",
    "test_data_dic['class_info'] = cls_nums\n"
   ]
  },
  {
   "cell_type": "code",
   "execution_count": 21,
   "metadata": {},
   "outputs": [],
   "source": [
    "train_data_dic = {}\n",
    "cls_nums = []\n",
    "for cls in trainval_classes:\n",
    "    cls_num = int(cls.split(\".\")[0])\n",
    "    cls_nums.append(cls_num)\n",
    "train_data_dic['classes'] = trainval_classes\n",
    "train_data_dic['class_info'] = cls_nums"
   ]
  },
  {
   "cell_type": "code",
   "execution_count": 22,
   "metadata": {},
   "outputs": [],
   "source": [
    "with open(birds_dir+\"/test_seen/class_data.pickle\", \"wb\") as f:\n",
    "    pkl.dump(train_data_dic, f)"
   ]
  },
  {
   "cell_type": "code",
   "execution_count": 19,
   "metadata": {},
   "outputs": [],
   "source": [
    "with open(birds_dir+\"/test_unseen/class_data.pickle\", \"wb\") as f:\n",
    "    pkl.dump(test_data_dic, f)"
   ]
  },
  {
   "cell_type": "code",
   "execution_count": 17,
   "metadata": {},
   "outputs": [
    {
     "name": "stdout",
     "output_type": "stream",
     "text": [
      "['043.Yellow_bellied_Flycatcher', '111.Loggerhead_Shrike', '023.Brandt_Cormorant', '098.Scott_Oriole', '055.Evening_Grosbeak', '130.Tree_Sparrow', '139.Scarlet_Tanager', '123.Henslow_Sparrow', '156.White_eyed_Vireo', '124.Le_Conte_Sparrow', '200.Common_Yellowthroat', '072.Pomarine_Jaeger', '173.Orange_crowned_Warbler', '028.Brown_Creeper', '119.Field_Sparrow', '165.Chestnut_sided_Warbler', '103.Sayornis', '180.Wilson_Warbler', '077.Tropical_Kingbird', '012.Yellow_headed_Blackbird', '045.Northern_Fulmar', '190.Red_cockaded_Woodpecker', '191.Red_headed_Woodpecker', '138.Tree_Swallow', '157.Yellow_throated_Vireo', '052.Pied_billed_Grebe', '033.Yellow_billed_Cuckoo', '164.Cerulean_Warbler', '031.Black_billed_Cuckoo', '143.Caspian_Tern', '094.White_breasted_Nuthatch', '070.Green_Violetear', '097.Orchard_Oriole', '091.Mockingbird', '104.American_Pipit', '127.Savannah_Sparrow', '161.Blue_winged_Warbler', '049.Boat_tailed_Grackle', '169.Magnolia_Warbler', '148.Green_tailed_Towhee', '113.Baird_Sparrow', '087.Mallard', '163.Cape_May_Warbler', '136.Barn_Swallow', '188.Pileated_Woodpecker', '084.Red_legged_Kittiwake', '026.Bronzed_Cowbird', '004.Groove_billed_Ani', '132.White_crowned_Sparrow', '168.Kentucky_Warbler']\n",
      "[43, 111, 23, 98, 55, 130, 139, 123, 156, 124, 200, 72, 173, 28, 119, 165, 103, 180, 77, 12, 45, 190, 191, 138, 157, 52, 33, 164, 31, 143, 94, 70, 97, 91, 104, 127, 161, 49, 169, 148, 113, 87, 163, 136, 188, 84, 26, 4, 132, 168]\n"
     ]
    },
    {
     "data": {
      "text/plain": [
       "'069.Rufous_Hummingbird/Rufous_Hummingbird_0031_58391'"
      ]
     },
     "execution_count": 17,
     "metadata": {},
     "output_type": "execute_result"
    }
   ],
   "source": [
    "print(data_dic['classes'])\n",
    "print(data_dic['class_info'])\n",
    "train_seen[0]"
   ]
  },
  {
   "cell_type": "code",
   "execution_count": 52,
   "metadata": {},
   "outputs": [],
   "source": [
    "with open(birds_dir+\"/train/filenames_seen.pickle\", \"wb\") as f:\n",
    "    pkl.dump(train_seen, f)\n",
    "with open(birds_dir+\"/test/filenames_seen.pickle\", \"wb\") as f:\n",
    "    pkl.dump(test_seen, f)\n",
    "with open(birds_dir+\"/test/filenames_unseen.pickle\", \"wb\") as f:\n",
    "    pkl.dump(test_unseen, f)"
   ]
  },
  {
   "cell_type": "code",
   "execution_count": 46,
   "metadata": {},
   "outputs": [
    {
     "name": "stdout",
     "output_type": "stream",
     "text": [
      "[69, 69, 69, 69, 69]\n"
     ]
    }
   ],
   "source": [
    "cls_info_train_seen=[]\n",
    "cls_info_test_seen=[]\n",
    "cls_info_test_unseen=[]\n",
    "\n",
    "for f in train_seen:\n",
    "    f = int(f.split(\".\")[0])\n",
    "    cls_info_train_seen.append(f)\n",
    "for f in test_seen:\n",
    "    f = int(f.split(\".\")[0])\n",
    "    cls_info_test_seen.append(f)\n",
    "for f in test_unseen:\n",
    "    f = int(f.split(\".\")[0])\n",
    "    cls_info_test_unseen.append(f)\n",
    "    \n",
    "print(cls_info_train_seen[:5])"
   ]
  },
  {
   "cell_type": "code",
   "execution_count": 49,
   "metadata": {},
   "outputs": [],
   "source": [
    "with open(birds_dir+\"/train/class_info_seen.pickle\", \"wb\") as f:\n",
    "    pkl.dump(cls_info_train_seen, f)\n",
    "with open(birds_dir+\"/test/class_info_seen.pickle\", \"wb\") as f:\n",
    "    pkl.dump(cls_info_test_seen, f)\n",
    "with open(birds_dir+\"/test/class_info_unseen.pickle\", \"wb\") as f:\n",
    "    pkl.dump(cls_info_test_unseen, f)\n"
   ]
  },
  {
   "cell_type": "code",
   "execution_count": 28,
   "metadata": {},
   "outputs": [
    {
     "name": "stdout",
     "output_type": "stream",
     "text": [
      "['aa', 'ab', 'ac']\n"
     ]
    }
   ],
   "source": [
    "d=\"a\"\n",
    "l = [\"a\", \"b\", \"c\"]\n",
    "new_l = list(map(lambda x: d+x, l))\n",
    "print(new_l)"
   ]
  },
  {
   "cell_type": "code",
   "execution_count": 43,
   "metadata": {},
   "outputs": [
    {
     "name": "stdout",
     "output_type": "stream",
     "text": [
      "69\n"
     ]
    }
   ],
   "source": [
    "train_seen[0]\n",
    "print(int(train_seen[0].split(\".\")[0]))"
   ]
  },
  {
   "cell_type": "code",
   "execution_count": null,
   "metadata": {},
   "outputs": [],
   "source": []
  }
 ],
 "metadata": {
  "kernelspec": {
   "display_name": "Python 3",
   "language": "python",
   "name": "python3"
  },
  "language_info": {
   "codemirror_mode": {
    "name": "ipython",
    "version": 3
   },
   "file_extension": ".py",
   "mimetype": "text/x-python",
   "name": "python",
   "nbconvert_exporter": "python",
   "pygments_lexer": "ipython3",
   "version": "3.7.3"
  }
 },
 "nbformat": 4,
 "nbformat_minor": 2
}
