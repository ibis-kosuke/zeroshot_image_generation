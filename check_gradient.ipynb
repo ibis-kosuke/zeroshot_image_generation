{
 "cells": [
  {
   "cell_type": "code",
   "execution_count": 41,
   "metadata": {},
   "outputs": [],
   "source": [
    "import torch\n",
    "from torchvision.models import inception_v3\n",
    "from torchvision import models\n",
    "from torch import nn\n",
    "import torch.utils.model_zoo as model_zoo\n",
    "import torch.nn.functional as F"
   ]
  },
  {
   "cell_type": "code",
   "execution_count": 20,
   "metadata": {},
   "outputs": [
    {
     "data": {
      "text/plain": [
       "<torch.utils.hooks.RemovableHandle at 0x7ff3a3544e80>"
      ]
     },
     "execution_count": 20,
     "metadata": {},
     "output_type": "execute_result"
    }
   ],
   "source": [
    "model = inception_v3(pretrained=True)\n",
    "model.Mixed_7c.register_forward_hook(output_hook)\n"
   ]
  },
  {
   "cell_type": "code",
   "execution_count": 27,
   "metadata": {},
   "outputs": [],
   "source": [
    "def output_hook(module, input, output):\n",
    "    global mixed_7c_output\n",
    "    mixed_7c_output = output"
   ]
  },
  {
   "cell_type": "code",
   "execution_count": 43,
   "metadata": {},
   "outputs": [],
   "source": [
    "inp_ts = torch.FloatTensor(2,3,299,299).normal_(0,1)\n",
    "inp_ts.requires_grad = True"
   ]
  },
  {
   "cell_type": "code",
   "execution_count": 29,
   "metadata": {},
   "outputs": [
    {
     "data": {
      "text/plain": [
       "InceptionOutputs(logits=tensor([[ 0.0321,  1.2157,  1.3836,  ...,  0.3750,  0.0776, -0.9441],\n",
       "        [-0.5735, -0.7396, -0.5489,  ..., -0.5914, -0.8045,  0.5662]],\n",
       "       grad_fn=<AddmmBackward>), aux_logits=tensor([[-1.0451,  1.9003,  0.8260,  ..., -0.2205,  0.0702, -0.1304],\n",
       "        [ 0.3267, -2.3561, -0.8446,  ..., -0.7612, -0.2905,  0.3184]],\n",
       "       grad_fn=<AddmmBackward>))"
      ]
     },
     "execution_count": 29,
     "metadata": {},
     "output_type": "execute_result"
    }
   ],
   "source": [
    "model(inp_ts)"
   ]
  },
  {
   "cell_type": "code",
   "execution_count": 31,
   "metadata": {},
   "outputs": [
    {
     "ename": "NameError",
     "evalue": "name 'mixed_7c_output' is not defined",
     "output_type": "error",
     "traceback": [
      "\u001b[0;31m---------------------------------------------------------------------------\u001b[0m",
      "\u001b[0;31mNameError\u001b[0m                                 Traceback (most recent call last)",
      "\u001b[0;32m<ipython-input-31-c4f9b376bc1a>\u001b[0m in \u001b[0;36m<module>\u001b[0;34m\u001b[0m\n\u001b[0;32m----> 1\u001b[0;31m \u001b[0mprint\u001b[0m\u001b[0;34m(\u001b[0m\u001b[0mmixed_7c_output\u001b[0m\u001b[0;34m.\u001b[0m\u001b[0mshape\u001b[0m\u001b[0;34m)\u001b[0m\u001b[0;34m\u001b[0m\u001b[0;34m\u001b[0m\u001b[0m\n\u001b[0m",
      "\u001b[0;31mNameError\u001b[0m: name 'mixed_7c_output' is not defined"
     ]
    }
   ],
   "source": [
    "print(mixed_7c_output.shape)"
   ]
  },
  {
   "cell_type": "code",
   "execution_count": 39,
   "metadata": {},
   "outputs": [],
   "source": [
    "def conv1x1(in_planes, out_planes, bias=False):\n",
    "    \"1x1 convolution with padding\"\n",
    "    return nn.Conv2d(in_planes, out_planes, kernel_size=1, stride=1,\n",
    "                     padding=0, bias=bias)"
   ]
  },
  {
   "cell_type": "code",
   "execution_count": 35,
   "metadata": {},
   "outputs": [],
   "source": [
    "class CNN_ENCODER(nn.Module):\n",
    "    def __init__(self):\n",
    "        super(CNN_ENCODER, self).__init__()\n",
    "\n",
    "        self.nef = 256  # define a uniform ranker\n",
    "\n",
    "        model = models.inception_v3()\n",
    "        url = 'https://download.pytorch.org/models/inception_v3_google-1a9a5a14.pth'\n",
    "        model.load_state_dict(model_zoo.load_url(url))\n",
    "        for param in model.parameters():\n",
    "            param.requires_grad = False\n",
    "        print('Load pretrained model from ', url)\n",
    "        # print(model)\n",
    "\n",
    "        self.define_module(model)\n",
    "        self.init_trainable_weights()\n",
    "\n",
    "    def define_module(self, model):\n",
    "        self.Conv2d_1a_3x3 = model.Conv2d_1a_3x3\n",
    "        self.Conv2d_2a_3x3 = model.Conv2d_2a_3x3\n",
    "        self.Conv2d_2b_3x3 = model.Conv2d_2b_3x3\n",
    "        self.Conv2d_3b_1x1 = model.Conv2d_3b_1x1\n",
    "        self.Conv2d_4a_3x3 = model.Conv2d_4a_3x3\n",
    "        self.Mixed_5b = model.Mixed_5b\n",
    "        self.Mixed_5c = model.Mixed_5c\n",
    "        self.Mixed_5d = model.Mixed_5d\n",
    "        self.Mixed_6a = model.Mixed_6a\n",
    "        self.Mixed_6b = model.Mixed_6b\n",
    "        self.Mixed_6c = model.Mixed_6c\n",
    "        self.Mixed_6d = model.Mixed_6d\n",
    "        self.Mixed_6e = model.Mixed_6e\n",
    "        self.Mixed_7a = model.Mixed_7a\n",
    "        self.Mixed_7b = model.Mixed_7b\n",
    "        self.Mixed_7c = model.Mixed_7c\n",
    "\n",
    "        self.emb_features = conv1x1(768, self.nef)\n",
    "        self.emb_cnn_code = nn.Linear(2048, self.nef)\n",
    "\n",
    "    def init_trainable_weights(self):\n",
    "        initrange = 0.1\n",
    "        self.emb_features.weight.data.uniform_(-initrange, initrange)\n",
    "        self.emb_cnn_code.weight.data.uniform_(-initrange, initrange)\n",
    "\n",
    "    def forward(self, x):\n",
    "        features = None\n",
    "        # --> fixed-size input: batch x 3 x 299 x 299\n",
    "        x = nn.Upsample(size=(299, 299), mode='bilinear')(x)\n",
    "        # 299 x 299 x 3\n",
    "        x = self.Conv2d_1a_3x3(x)\n",
    "        # 149 x 149 x 32\n",
    "        x = self.Conv2d_2a_3x3(x)\n",
    "        # 147 x 147 x 32\n",
    "        x = self.Conv2d_2b_3x3(x)\n",
    "        # 147 x 147 x 64\n",
    "        x = F.max_pool2d(x, kernel_size=3, stride=2)\n",
    "        # 73 x 73 x 64\n",
    "        x = self.Conv2d_3b_1x1(x)\n",
    "        # 73 x 73 x 80\n",
    "        x = self.Conv2d_4a_3x3(x)\n",
    "        # 71 x 71 x 192\n",
    "\n",
    "        x = F.max_pool2d(x, kernel_size=3, stride=2)\n",
    "        # 35 x 35 x 192\n",
    "        x = self.Mixed_5b(x)\n",
    "        # 35 x 35 x 256\n",
    "        x = self.Mixed_5c(x)\n",
    "        # 35 x 35 x 288\n",
    "        x = self.Mixed_5d(x)\n",
    "        # 35 x 35 x 288\n",
    "\n",
    "        x = self.Mixed_6a(x)\n",
    "        # 17 x 17 x 768\n",
    "        x = self.Mixed_6b(x)\n",
    "        # 17 x 17 x 768\n",
    "        x = self.Mixed_6c(x)\n",
    "        # 17 x 17 x 768\n",
    "        x = self.Mixed_6d(x)\n",
    "        # 17 x 17 x 768\n",
    "        x = self.Mixed_6e(x)\n",
    "        # 17 x 17 x 768\n",
    "\n",
    "        # image region features\n",
    "        features = x\n",
    "        # 17 x 17 x 768\n",
    "\n",
    "        x = self.Mixed_7a(x)\n",
    "        # 8 x 8 x 1280\n",
    "        x = self.Mixed_7b(x)\n",
    "        # 8 x 8 x 2048\n",
    "        x = self.Mixed_7c(x)\n",
    "        # 8 x 8 x 2048\n",
    "        x = F.avg_pool2d(x, kernel_size=8)\n",
    "        # 1 x 1 x 2048\n",
    "        # x = F.dropout(x, training=self.training)\n",
    "        # 1 x 1 x 2048\n",
    "        x = x.view(x.size(0), -1)\n",
    "        # 2048\n",
    "\n",
    "        # global image features\n",
    "        cnn_code = self.emb_cnn_code(x)\n",
    "        # 512\n",
    "        if features is not None:\n",
    "            features = self.emb_features(features)\n",
    "        return features, cnn_code"
   ]
  },
  {
   "cell_type": "code",
   "execution_count": 42,
   "metadata": {},
   "outputs": [
    {
     "name": "stdout",
     "output_type": "stream",
     "text": [
      "Load pretrained model from  https://download.pytorch.org/models/inception_v3_google-1a9a5a14.pth\n"
     ]
    }
   ],
   "source": [
    "model = CNN_ENCODER()\n",
    "features, cnn_code = model(inp_ts)"
   ]
  },
  {
   "cell_type": "code",
   "execution_count": 46,
   "metadata": {},
   "outputs": [
    {
     "name": "stdout",
     "output_type": "stream",
     "text": [
      "tensor([[[[ 9.9121e-01, -1.5410e+00,  1.5733e+00,  ..., -2.2380e+00,\n",
      "            8.2939e-01,  5.3705e-01],\n",
      "          [ 9.4397e-01,  1.0273e-01,  3.6461e-01,  ...,  1.1980e+00,\n",
      "            2.9882e-01, -2.5564e-01],\n",
      "          [-8.9623e-01,  2.0237e-01,  3.0076e-01,  ..., -6.1049e-01,\n",
      "            5.8420e-01,  2.2611e+00],\n",
      "          ...,\n",
      "          [ 5.3627e-01, -2.1972e-01,  7.8903e-01,  ...,  1.2882e+00,\n",
      "            2.4788e-01,  9.9391e-02],\n",
      "          [-4.4042e-01, -6.0449e-01, -8.7504e-01,  ..., -1.0217e+00,\n",
      "            4.8940e-02,  1.1941e-01],\n",
      "          [-9.1444e-01, -1.3114e+00, -9.3179e-01,  ..., -6.2491e-01,\n",
      "           -6.4234e-01,  8.7960e-01]],\n",
      "\n",
      "         [[ 5.9128e-01, -1.3882e-01,  1.1439e+00,  ..., -1.0924e+00,\n",
      "           -5.2835e-01,  5.6538e-01],\n",
      "          [ 1.3652e+00,  6.7491e-01,  9.6551e-01,  ...,  9.8404e-01,\n",
      "           -1.1610e+00,  4.2983e-02],\n",
      "          [ 1.1171e+00,  2.3805e-01,  4.2848e-01,  ..., -7.4013e-01,\n",
      "           -2.5052e+00,  6.3910e-01],\n",
      "          ...,\n",
      "          [ 1.2278e+00,  4.6528e-01, -2.8515e-02,  ..., -1.7178e+00,\n",
      "           -5.0439e-01, -1.0761e+00],\n",
      "          [-5.5502e-01,  5.1667e-01, -9.9047e-01,  ...,  1.7894e+00,\n",
      "            5.8710e-01, -5.2733e-02],\n",
      "          [-1.4293e+00,  3.5794e-01,  5.3524e-01,  ...,  6.6522e-01,\n",
      "            1.3496e+00,  2.9027e+00]],\n",
      "\n",
      "         [[-1.2138e+00,  2.8483e-02,  1.4560e+00,  ...,  2.8062e-01,\n",
      "           -1.6320e-01, -1.2973e+00],\n",
      "          [-9.8441e-02, -1.2239e+00, -1.1756e+00,  ...,  2.3317e-01,\n",
      "           -5.8375e-02, -1.6752e+00],\n",
      "          [ 9.2707e-01, -6.2340e-01,  1.5167e+00,  ..., -1.2486e+00,\n",
      "           -5.9792e-02,  4.8176e-02],\n",
      "          ...,\n",
      "          [-2.0783e-01, -1.0667e+00,  9.7718e-01,  ...,  1.7086e+00,\n",
      "           -3.8307e-01,  1.4695e+00],\n",
      "          [-1.4056e+00, -2.7298e-01, -2.0602e+00,  ...,  7.4937e-01,\n",
      "            8.0061e-01, -4.2745e-02],\n",
      "          [-1.7545e+00,  6.7770e-01, -9.4607e-02,  ..., -7.1815e-01,\n",
      "            4.1723e-01, -2.7241e-01]]],\n",
      "\n",
      "\n",
      "        [[[ 6.0828e-01,  1.5948e+00, -2.1038e-03,  ...,  1.2182e-01,\n",
      "           -1.5150e-01,  5.6094e-01],\n",
      "          [-1.6830e+00,  1.6346e+00, -3.8646e-01,  ...,  4.1883e-01,\n",
      "            6.9915e-01, -1.6783e+00],\n",
      "          [ 3.6059e-01, -3.7242e-01, -1.7349e+00,  ...,  1.4697e-01,\n",
      "            1.2086e+00,  1.0360e+00],\n",
      "          ...,\n",
      "          [ 7.1573e-01, -3.8856e-01,  1.5292e+00,  ..., -1.0371e+00,\n",
      "           -5.5883e-01,  7.6537e-01],\n",
      "          [-2.2916e-01,  1.0739e+00, -3.6277e-01,  ..., -1.3666e-01,\n",
      "           -3.6312e-01, -2.0084e-01],\n",
      "          [-5.5048e-01,  7.8853e-01,  1.3561e+00,  ..., -1.5586e+00,\n",
      "            9.0047e-01,  8.4891e-01]],\n",
      "\n",
      "         [[-4.1046e-01, -1.0097e-01,  9.2924e-01,  ...,  8.5351e-01,\n",
      "            1.6842e+00, -1.2610e+00],\n",
      "          [ 5.4655e-01, -5.4606e-01,  1.2182e+00,  ..., -6.0546e-02,\n",
      "            2.1322e-02, -1.4214e+00],\n",
      "          [-1.4114e+00, -5.6768e-01, -1.8344e+00,  ...,  6.8543e-01,\n",
      "           -1.3269e+00, -6.8818e-01],\n",
      "          ...,\n",
      "          [-4.0633e-01,  3.9153e-01,  2.6850e-01,  ...,  2.4678e-01,\n",
      "            6.5695e-01,  6.9590e-01],\n",
      "          [-9.1503e-01, -1.0752e-01,  1.6050e+00,  ...,  1.1164e+00,\n",
      "           -2.9043e-01, -1.1066e+00],\n",
      "          [ 5.8068e-01, -1.0273e+00, -1.4865e-01,  ..., -8.7450e-01,\n",
      "           -1.1608e-01, -9.1400e-02]],\n",
      "\n",
      "         [[-6.6821e-01, -1.3756e+00,  1.1073e+00,  ..., -1.0831e+00,\n",
      "            8.3904e-01,  6.3682e-01],\n",
      "          [-1.5598e+00,  1.1698e+00, -6.5285e-01,  ..., -2.3445e-01,\n",
      "           -7.2927e-01,  8.2384e-01],\n",
      "          [ 1.0118e+00,  6.1137e-01, -7.5054e-01,  ...,  1.3815e+00,\n",
      "            6.2965e-01, -1.6415e+00],\n",
      "          ...,\n",
      "          [-2.0030e-01,  2.6717e-01, -7.0173e-01,  ..., -7.5226e-01,\n",
      "            4.1804e-01, -4.5434e-01],\n",
      "          [ 8.1809e-01, -6.0129e-01,  1.1104e+00,  ..., -6.8544e-01,\n",
      "            5.7383e-01, -9.0399e-01],\n",
      "          [-2.7286e-01, -3.0783e-01, -5.2117e-01,  ..., -3.2501e-01,\n",
      "            1.6508e+00, -1.3623e+00]]]], requires_grad=True)\n"
     ]
    }
   ],
   "source": []
  },
  {
   "cell_type": "code",
   "execution_count": 56,
   "metadata": {},
   "outputs": [],
   "source": [
    "ts = torch.FloatTensor(1,3,10,10).normal_(0,1)\n",
    "ts.requires_grad = True"
   ]
  },
  {
   "cell_type": "code",
   "execution_count": 77,
   "metadata": {},
   "outputs": [],
   "source": [
    "conv = nn.Conv2d(3,5, 3,1,0)\n",
    "for param in conv.parameters():\n",
    "    param.requires_grad = False\n",
    "lin = nn.Linear(320, 1)\n",
    "for param in lin.parameters():\n",
    "    param.requires_grad = False\n"
   ]
  },
  {
   "cell_type": "code",
   "execution_count": 84,
   "metadata": {},
   "outputs": [
    {
     "data": {
      "text/plain": [
       "'\\ntarget = torch.tensor(10)\\nloss = nn.CrossEntropyLoss()\\nprint(middle.shape, target.shape)\\nout = loss(middle, target)\\n'"
      ]
     },
     "execution_count": 84,
     "metadata": {},
     "output_type": "execute_result"
    }
   ],
   "source": [
    "ts_conv = conv(ts)\n",
    "ts_conv = ts_conv.view(1,-1)\n",
    "ts_lin = lin(ts_conv).view(-1)\n",
    "loss = ts_lin**2 + ts_lin*3 + 5\n",
    "loss.backward()\n",
    "\"\"\"\n",
    "target = torch.tensor(10)\n",
    "loss = nn.CrossEntropyLoss()\n",
    "print(middle.shape, target.shape)\n",
    "out = loss(middle, target)\n",
    "\"\"\""
   ]
  },
  {
   "cell_type": "code",
   "execution_count": 89,
   "metadata": {},
   "outputs": [
    {
     "name": "stdout",
     "output_type": "stream",
     "text": [
      "tensor([[[[ 1.7788e-02,  2.3389e-02,  6.3964e-03, -6.3704e-02, -1.5883e-03,\n",
      "           -2.0264e-02, -1.6841e-02, -4.5848e-02,  1.2867e-02, -1.2457e-02],\n",
      "          [ 1.4171e-02, -4.2007e-03, -4.3033e-02,  1.6611e-02, -4.4060e-02,\n",
      "            8.4577e-02, -1.8137e-02,  2.8998e-02, -1.5769e-02, -9.9292e-03],\n",
      "          [ 5.7802e-03, -9.7899e-02,  8.0100e-02, -8.4161e-02,  3.1718e-02,\n",
      "           -4.0788e-02,  9.9572e-02, -2.5918e-02,  6.8904e-03, -1.1736e-02],\n",
      "          [-3.6263e-02,  1.4079e-02, -5.5197e-02,  5.3881e-02,  8.3585e-02,\n",
      "           -6.9351e-02,  1.1529e-01, -8.1976e-02, -4.2611e-02, -4.6984e-02],\n",
      "          [-1.6869e-02,  1.1193e-02,  2.2383e-02, -1.2708e-02, -3.6245e-02,\n",
      "           -4.4933e-02, -1.1283e-01,  4.0536e-02, -8.0812e-02,  3.9190e-02],\n",
      "          [-1.9321e-02,  5.7967e-02, -5.9340e-02,  3.6058e-02, -4.5971e-02,\n",
      "           -6.9076e-03,  1.3050e-03,  2.2095e-02,  3.0725e-02, -7.8929e-02],\n",
      "          [ 1.4468e-02, -5.6043e-02, -7.0652e-02,  5.2487e-02, -1.6587e-02,\n",
      "            5.6758e-02, -3.6478e-02,  2.2701e-03, -4.7199e-02, -1.9923e-02],\n",
      "          [-7.1632e-03, -8.2873e-02, -2.3987e-02, -1.5077e-02,  1.6206e-02,\n",
      "            1.9142e-03, -2.7041e-02, -1.3871e-01,  1.1045e-01, -4.8053e-02],\n",
      "          [-6.8084e-03,  5.6078e-03, -1.5372e-03, -2.2972e-02, -4.0963e-03,\n",
      "           -9.3190e-02,  9.1547e-02, -7.1371e-02, -2.6029e-03,  3.2139e-03],\n",
      "          [-6.5216e-03, -1.2600e-02,  1.3938e-03, -1.8174e-02,  3.6132e-02,\n",
      "           -1.0370e-01,  2.2393e-02,  3.7002e-02, -1.4076e-02, -8.7424e-03]],\n",
      "\n",
      "         [[ 1.1695e-02, -2.4555e-02, -1.7033e-02,  3.3203e-02,  3.8470e-02,\n",
      "            4.6960e-02,  7.9131e-03, -3.0070e-02, -3.2191e-02,  4.1543e-03],\n",
      "          [-1.6594e-02, -8.2468e-02, -4.6622e-03, -3.4052e-02,  7.1276e-02,\n",
      "            4.4258e-02,  4.9013e-02,  3.2365e-02,  4.1927e-02, -4.6492e-03],\n",
      "          [-2.7512e-02,  7.8697e-02,  3.2209e-02,  8.6624e-03, -6.2287e-02,\n",
      "           -1.3855e-01, -2.3075e-02, -4.3363e-02, -1.2144e-02,  4.8688e-02],\n",
      "          [ 7.5552e-02,  4.0749e-02,  7.9143e-02,  8.8061e-02,  4.3042e-02,\n",
      "           -4.4254e-02, -4.8836e-02,  1.0633e-01, -7.0396e-02,  2.9807e-02],\n",
      "          [ 1.8475e-02, -2.6763e-03,  3.6706e-02,  7.6230e-02, -9.0023e-02,\n",
      "            6.0296e-02, -7.5109e-02, -4.3620e-02, -1.0091e-02,  2.3836e-02],\n",
      "          [-8.2736e-03,  2.9897e-02, -4.7803e-02,  2.3662e-02,  2.8780e-02,\n",
      "            1.9342e-02,  1.2459e-02,  6.7450e-02, -3.7155e-02,  2.7187e-03],\n",
      "          [-4.4438e-02, -1.5613e-02, -1.1785e-01,  3.7673e-02, -8.0983e-02,\n",
      "            4.8949e-02, -4.4783e-02, -8.4126e-02, -5.1618e-02, -5.8132e-02],\n",
      "          [ 9.0029e-03,  4.1718e-02, -3.1704e-02,  2.2822e-02,  1.6367e-02,\n",
      "           -6.8089e-03,  4.0178e-02, -1.1567e-01,  2.8790e-02,  1.5830e-02],\n",
      "          [ 4.8545e-02, -3.1511e-02,  7.2159e-02, -5.8109e-02,  4.9511e-02,\n",
      "           -4.1763e-02,  5.8038e-02, -3.9221e-02, -1.9446e-02, -2.3885e-02],\n",
      "          [ 1.7021e-02, -5.3631e-02,  1.7046e-02,  2.3780e-02,  1.4510e-02,\n",
      "           -1.2748e-02, -1.8718e-02, -1.2875e-02,  6.6207e-02, -9.3551e-03]],\n",
      "\n",
      "         [[ 4.3727e-03,  6.3404e-03,  2.1451e-02, -4.3042e-02, -1.1946e-02,\n",
      "           -4.8046e-02, -2.0193e-02, -1.1427e-02,  3.0871e-02,  1.3609e-02],\n",
      "          [ 1.8722e-02,  3.3542e-02, -2.6026e-03,  3.0788e-02, -1.5752e-02,\n",
      "           -5.8452e-02,  4.4792e-03, -1.8283e-02, -2.9698e-03, -2.5337e-03],\n",
      "          [ 7.9032e-03, -4.6585e-02, -5.5660e-02, -3.4770e-02,  2.1462e-02,\n",
      "            2.5685e-02,  3.7003e-03,  5.2092e-02, -1.0313e-02, -1.3241e-02],\n",
      "          [ 3.4789e-02, -7.3701e-02, -9.2034e-02, -6.8676e-02,  8.8473e-04,\n",
      "           -1.1081e-04,  4.9281e-02,  1.7192e-02,  1.4940e-02, -2.1790e-03],\n",
      "          [ 3.4360e-02, -7.6939e-02, -7.1525e-03, -2.3620e-02,  1.3636e-02,\n",
      "            6.1161e-02,  4.7165e-02,  8.4728e-02,  4.9983e-02, -3.5021e-03],\n",
      "          [-2.1940e-02,  6.3783e-03,  3.4262e-02, -2.4760e-02,  1.3303e-02,\n",
      "            5.5825e-02,  3.5410e-02,  4.0419e-02,  7.0993e-03,  1.9486e-03],\n",
      "          [-3.3031e-02,  9.0134e-02,  7.7258e-02,  7.1215e-02,  2.9229e-02,\n",
      "           -9.7564e-03,  7.7552e-02, -3.7446e-02,  4.7171e-02,  1.0253e-02],\n",
      "          [-1.2669e-02, -2.2524e-02,  7.7879e-02, -8.0820e-03,  1.1657e-01,\n",
      "            1.1926e-02, -6.3637e-02,  3.7271e-02,  3.9531e-02,  1.0613e-02],\n",
      "          [ 2.2202e-02,  1.5733e-02,  5.9721e-02,  5.3249e-04,  3.6594e-02,\n",
      "           -3.9125e-02,  3.6081e-02,  1.0276e-02,  2.2452e-02,  1.9421e-02],\n",
      "          [ 2.9799e-02,  6.5269e-03,  4.4260e-02,  8.6635e-03, -1.7832e-02,\n",
      "            2.0320e-02,  5.9337e-02,  2.1176e-03, -2.8155e-03, -2.1954e-02]]]])\n"
     ]
    }
   ],
   "source": [
    "print(ts.grad)"
   ]
  },
  {
   "cell_type": "code",
   "execution_count": null,
   "metadata": {},
   "outputs": [],
   "source": []
  }
 ],
 "metadata": {
  "kernelspec": {
   "display_name": "Python 3",
   "language": "python",
   "name": "python3"
  },
  "language_info": {
   "codemirror_mode": {
    "name": "ipython",
    "version": 3
   },
   "file_extension": ".py",
   "mimetype": "text/x-python",
   "name": "python",
   "nbconvert_exporter": "python",
   "pygments_lexer": "ipython3",
   "version": "3.7.3"
  }
 },
 "nbformat": 4,
 "nbformat_minor": 2
}
