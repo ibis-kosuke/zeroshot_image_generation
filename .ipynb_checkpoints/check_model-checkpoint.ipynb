{
 "cells": [
  {
   "cell_type": "code",
   "execution_count": 9,
   "metadata": {},
   "outputs": [],
   "source": [
    "import torch\n",
    "\n",
    "from model import G_NET, G_NET_not_CA\n",
    "import os\n",
    "import pickle as pkl\n",
    "import numpy as np\n",
    "from PIL  import Image\n",
    "import matplotlib.pyplot as plt"
   ]
  },
  {
   "cell_type": "code",
   "execution_count": 19,
   "metadata": {},
   "outputs": [],
   "source": [
    "batch_size =20\n",
    "use_kl = True\n",
    "data_dir = \"/data/unagi0/ktokitake/birds_attngan\""
   ]
  },
  {
   "cell_type": "code",
   "execution_count": 20,
   "metadata": {},
   "outputs": [],
   "source": [
    "netG_path = \"birds_attn2_2020_08_03_14_39_16\"\n",
    "model_path = os.path.join(data_dir, \"att_output\", netG_path, \"Model/netG_epoch_600.pth\")"
   ]
  },
  {
   "cell_type": "code",
   "execution_count": 21,
   "metadata": {},
   "outputs": [],
   "source": [
    "if use_kl:\n",
    "    netG = G_NET()\n",
    "else:\n",
    "    netG = G_NET_not_CA()"
   ]
  },
  {
   "cell_type": "code",
   "execution_count": 23,
   "metadata": {},
   "outputs": [
    {
     "data": {
      "text/plain": [
       "G_NET(\n",
       "  (ca_net): CA_NET(\n",
       "    (fc): Linear(in_features=312, out_features=400, bias=True)\n",
       "    (relu): GLU()\n",
       "  )\n",
       "  (h_net1): INIT_STAGE_G(\n",
       "    (fc): Sequential(\n",
       "      (0): Linear(in_features=200, out_features=16384, bias=False)\n",
       "      (1): BatchNorm1d(16384, eps=1e-05, momentum=0.1, affine=True, track_running_stats=True)\n",
       "      (2): GLU()\n",
       "    )\n",
       "    (upsample1): Sequential(\n",
       "      (0): Upsample(scale_factor=2.0, mode=nearest)\n",
       "      (1): Conv2d(512, 512, kernel_size=(3, 3), stride=(1, 1), padding=(1, 1), bias=False)\n",
       "      (2): BatchNorm2d(512, eps=1e-05, momentum=0.1, affine=True, track_running_stats=True)\n",
       "      (3): GLU()\n",
       "    )\n",
       "    (upsample2): Sequential(\n",
       "      (0): Upsample(scale_factor=2.0, mode=nearest)\n",
       "      (1): Conv2d(256, 256, kernel_size=(3, 3), stride=(1, 1), padding=(1, 1), bias=False)\n",
       "      (2): BatchNorm2d(256, eps=1e-05, momentum=0.1, affine=True, track_running_stats=True)\n",
       "      (3): GLU()\n",
       "    )\n",
       "    (upsample3): Sequential(\n",
       "      (0): Upsample(scale_factor=2.0, mode=nearest)\n",
       "      (1): Conv2d(128, 128, kernel_size=(3, 3), stride=(1, 1), padding=(1, 1), bias=False)\n",
       "      (2): BatchNorm2d(128, eps=1e-05, momentum=0.1, affine=True, track_running_stats=True)\n",
       "      (3): GLU()\n",
       "    )\n",
       "    (upsample4): Sequential(\n",
       "      (0): Upsample(scale_factor=2.0, mode=nearest)\n",
       "      (1): Conv2d(64, 64, kernel_size=(3, 3), stride=(1, 1), padding=(1, 1), bias=False)\n",
       "      (2): BatchNorm2d(64, eps=1e-05, momentum=0.1, affine=True, track_running_stats=True)\n",
       "      (3): GLU()\n",
       "    )\n",
       "  )\n",
       "  (img_net1): GET_IMAGE_G(\n",
       "    (img): Sequential(\n",
       "      (0): Conv2d(32, 3, kernel_size=(3, 3), stride=(1, 1), padding=(1, 1), bias=False)\n",
       "      (1): Tanh()\n",
       "    )\n",
       "  )\n",
       "  (h_net2): NEXT_STAGE_G(\n",
       "    (residual): Sequential(\n",
       "      (0): ResBlock(\n",
       "        (block): Sequential(\n",
       "          (0): Conv2d(32, 64, kernel_size=(3, 3), stride=(1, 1), padding=(1, 1), bias=False)\n",
       "          (1): BatchNorm2d(64, eps=1e-05, momentum=0.1, affine=True, track_running_stats=True)\n",
       "          (2): GLU()\n",
       "          (3): Conv2d(32, 32, kernel_size=(3, 3), stride=(1, 1), padding=(1, 1), bias=False)\n",
       "          (4): BatchNorm2d(32, eps=1e-05, momentum=0.1, affine=True, track_running_stats=True)\n",
       "        )\n",
       "      )\n",
       "      (1): ResBlock(\n",
       "        (block): Sequential(\n",
       "          (0): Conv2d(32, 64, kernel_size=(3, 3), stride=(1, 1), padding=(1, 1), bias=False)\n",
       "          (1): BatchNorm2d(64, eps=1e-05, momentum=0.1, affine=True, track_running_stats=True)\n",
       "          (2): GLU()\n",
       "          (3): Conv2d(32, 32, kernel_size=(3, 3), stride=(1, 1), padding=(1, 1), bias=False)\n",
       "          (4): BatchNorm2d(32, eps=1e-05, momentum=0.1, affine=True, track_running_stats=True)\n",
       "        )\n",
       "      )\n",
       "    )\n",
       "    (upsample): Sequential(\n",
       "      (0): Upsample(scale_factor=2.0, mode=nearest)\n",
       "      (1): Conv2d(32, 64, kernel_size=(3, 3), stride=(1, 1), padding=(1, 1), bias=False)\n",
       "      (2): BatchNorm2d(64, eps=1e-05, momentum=0.1, affine=True, track_running_stats=True)\n",
       "      (3): GLU()\n",
       "    )\n",
       "  )\n",
       "  (img_net2): GET_IMAGE_G(\n",
       "    (img): Sequential(\n",
       "      (0): Conv2d(32, 3, kernel_size=(3, 3), stride=(1, 1), padding=(1, 1), bias=False)\n",
       "      (1): Tanh()\n",
       "    )\n",
       "  )\n",
       "  (h_net3): NEXT_STAGE_G(\n",
       "    (residual): Sequential(\n",
       "      (0): ResBlock(\n",
       "        (block): Sequential(\n",
       "          (0): Conv2d(32, 64, kernel_size=(3, 3), stride=(1, 1), padding=(1, 1), bias=False)\n",
       "          (1): BatchNorm2d(64, eps=1e-05, momentum=0.1, affine=True, track_running_stats=True)\n",
       "          (2): GLU()\n",
       "          (3): Conv2d(32, 32, kernel_size=(3, 3), stride=(1, 1), padding=(1, 1), bias=False)\n",
       "          (4): BatchNorm2d(32, eps=1e-05, momentum=0.1, affine=True, track_running_stats=True)\n",
       "        )\n",
       "      )\n",
       "      (1): ResBlock(\n",
       "        (block): Sequential(\n",
       "          (0): Conv2d(32, 64, kernel_size=(3, 3), stride=(1, 1), padding=(1, 1), bias=False)\n",
       "          (1): BatchNorm2d(64, eps=1e-05, momentum=0.1, affine=True, track_running_stats=True)\n",
       "          (2): GLU()\n",
       "          (3): Conv2d(32, 32, kernel_size=(3, 3), stride=(1, 1), padding=(1, 1), bias=False)\n",
       "          (4): BatchNorm2d(32, eps=1e-05, momentum=0.1, affine=True, track_running_stats=True)\n",
       "        )\n",
       "      )\n",
       "    )\n",
       "    (upsample): Sequential(\n",
       "      (0): Upsample(scale_factor=2.0, mode=nearest)\n",
       "      (1): Conv2d(32, 64, kernel_size=(3, 3), stride=(1, 1), padding=(1, 1), bias=False)\n",
       "      (2): BatchNorm2d(64, eps=1e-05, momentum=0.1, affine=True, track_running_stats=True)\n",
       "      (3): GLU()\n",
       "    )\n",
       "  )\n",
       "  (img_net3): GET_IMAGE_G(\n",
       "    (img): Sequential(\n",
       "      (0): Conv2d(32, 3, kernel_size=(3, 3), stride=(1, 1), padding=(1, 1), bias=False)\n",
       "      (1): Tanh()\n",
       "    )\n",
       "  )\n",
       ")"
      ]
     },
     "execution_count": 23,
     "metadata": {},
     "output_type": "execute_result"
    }
   ],
   "source": [
    "state_dict = torch.load(model_path, map_location=lambda storage, loc: storage)\n",
    "netG.load_state_dict(state_dict)\n",
    "netG.eval()"
   ]
  },
  {
   "cell_type": "code",
   "execution_count": 24,
   "metadata": {},
   "outputs": [],
   "source": [
    "###load attribute###\n",
    "att_dir = os.path.join(data_dir,\"CUB_200_2011/attributes\")\n",
    "att_np = np.zeros((312, 200)) #for CUB\n",
    "with open(att_dir+\"/class_attribute_labels_continuous.txt\", \"r\") as f:\n",
    "    for ind, line in enumerate(f.readlines()):\n",
    "        line = line.strip(\"\\n\")\n",
    "        line = list(map(float, line.split()))\n",
    "        att_np[:,ind] = line"
   ]
  },
  {
   "cell_type": "code",
   "execution_count": 42,
   "metadata": {},
   "outputs": [],
   "source": [
    "noise = torch.FloatTensor(batch_size, 100).normal_(0,1)\n",
    "class_ind = 153\n",
    "atts = np.zeros((batch_size, 312))\n",
    "att_np[:, class_ind]\n",
    "atts_np = np.random.randn(batch_size, 312)\n",
    "atts = torch.FloatTensor(atts)\n",
    "atts_np_ts = torch.FloatTensor(atts_np)"
   ]
  },
  {
   "cell_type": "code",
   "execution_count": 48,
   "metadata": {},
   "outputs": [],
   "source": [
    "if use_kl:\n",
    "    fake_imgs, _, _ = netG(noise, atts_np_ts)\n",
    "else:\n",
    "    fake_imgs = netG(noise, atts)"
   ]
  },
  {
   "cell_type": "code",
   "execution_count": 49,
   "metadata": {},
   "outputs": [
    {
     "ename": "AttributeError",
     "evalue": "'numpy.ndarray' object has no attribute 'append'",
     "output_type": "error",
     "traceback": [
      "\u001b[0;31m---------------------------------------------------------------------------\u001b[0m",
      "\u001b[0;31mAttributeError\u001b[0m                            Traceback (most recent call last)",
      "\u001b[0;32m<ipython-input-49-8c5bc3251117>\u001b[0m in \u001b[0;36m<module>\u001b[0;34m\u001b[0m\n\u001b[0;32m----> 1\u001b[0;31m \u001b[0mimg_set\u001b[0m \u001b[0;34m=\u001b[0m \u001b[0mbuild_images\u001b[0m\u001b[0;34m(\u001b[0m\u001b[0mfake_imgs\u001b[0m\u001b[0;34m)\u001b[0m\u001b[0;34m\u001b[0m\u001b[0;34m\u001b[0m\u001b[0m\n\u001b[0m",
      "\u001b[0;32m<ipython-input-46-144a12c1ace9>\u001b[0m in \u001b[0;36mbuild_images\u001b[0;34m(fake_imgs)\u001b[0m\n\u001b[1;32m     16\u001b[0m         \u001b[0mone_img\u001b[0m\u001b[0;34m.\u001b[0m\u001b[0mappend\u001b[0m\u001b[0;34m(\u001b[0m\u001b[0mimg3\u001b[0m\u001b[0;34m)\u001b[0m\u001b[0;34m\u001b[0m\u001b[0;34m\u001b[0m\u001b[0m\n\u001b[1;32m     17\u001b[0m         \u001b[0mone_img\u001b[0m \u001b[0;34m=\u001b[0m \u001b[0mnp\u001b[0m\u001b[0;34m.\u001b[0m\u001b[0mconcatenate\u001b[0m\u001b[0;34m(\u001b[0m\u001b[0mone_img\u001b[0m\u001b[0;34m,\u001b[0m \u001b[0maxis\u001b[0m\u001b[0;34m=\u001b[0m\u001b[0;36m0\u001b[0m\u001b[0;34m)\u001b[0m\u001b[0;34m\u001b[0m\u001b[0;34m\u001b[0m\u001b[0m\n\u001b[0;32m---> 18\u001b[0;31m         \u001b[0mimg_set\u001b[0m\u001b[0;34m.\u001b[0m\u001b[0mappend\u001b[0m\u001b[0;34m(\u001b[0m\u001b[0mone_img\u001b[0m\u001b[0;34m)\u001b[0m\u001b[0;34m\u001b[0m\u001b[0;34m\u001b[0m\u001b[0m\n\u001b[0m\u001b[1;32m     19\u001b[0m         \u001b[0;32mreturn\u001b[0m \u001b[0mone_img\u001b[0m\u001b[0;34m\u001b[0m\u001b[0;34m\u001b[0m\u001b[0m\n\u001b[1;32m     20\u001b[0m     \"\"\"\n",
      "\u001b[0;31mAttributeError\u001b[0m: 'numpy.ndarray' object has no attribute 'append'"
     ]
    }
   ],
   "source": [
    "img_set = build_images(fake_imgs)"
   ]
  },
  {
   "cell_type": "code",
   "execution_count": 45,
   "metadata": {},
   "outputs": [
    {
     "data": {
      "text/plain": [
       "<matplotlib.image.AxesImage at 0x7fc8fa5b8080>"
      ]
     },
     "execution_count": 45,
     "metadata": {},
     "output_type": "execute_result"
    },
    {
     "data": {
      "image/png": "[encoded data removed]",
      "text/plain": [
       "<Figure size 432x288 with 1 Axes>"
      ]
     },
     "metadata": {
      "needs_background": "light"
     },
     "output_type": "display_data"
    }
   ],
   "source": [
    "plt.imshow(img_set)"
   ]
  },
  {
   "cell_type": "code",
   "execution_count": 46,
   "metadata": {},
   "outputs": [],
   "source": [
    "###show image####\n",
    "def build_images(fake_imgs):\n",
    "    for i in range(len(fake_imgs)):\n",
    "        fake_imgs[i] = fake_imgs[i].detach()\n",
    "        fake_imgs[i] = fake_imgs[i].add_(1).div_(2).mul_(255)\n",
    "        fake_imgs[i] = fake_imgs[i].numpy().astype(np.uint8)\n",
    "        fake_imgs[i] = np.transpose(fake_imgs[i], (0,2,3,1))\n",
    "\n",
    "    #img_set = []\n",
    "    for img1, img2, img3 in zip(*fake_imgs):\n",
    "        one_img=[]\n",
    "        img1 = img1.repeat(4,axis=0).repeat(4,axis=1) #To arange image size\n",
    "        img2 = img2.repeat(2,axis=0).repeat(2,axis=1)\n",
    "        one_img.append(img1)\n",
    "        one_img.append(img2)\n",
    "        one_img.append(img3)\n",
    "        one_img = np.concatenate(one_img, axis=0)\n",
    "        #img_set.append(one_img)\n",
    "        return one_img\n",
    "    \"\"\"\n",
    "    img_set1 = np.concatenate(img_set[:10], axis=1)\n",
    "    img_set2=[]\n",
    "    if len(img_set) >10:\n",
    "        img_set2 = np.concatenate(img_set[10:], axis=1)\n",
    "    img_set = np.concatenate([img_set1, img_set2], axis=0)\n",
    "    return img_set\n",
    "    \"\"\""
   ]
  },
  {
   "cell_type": "code",
   "execution_count": null,
   "metadata": {},
   "outputs": [],
   "source": []
  }
 ],
 "metadata": {
  "kernelspec": {
   "display_name": "Python 3",
   "language": "python",
   "name": "python3"
  },
  "language_info": {
   "codemirror_mode": {
    "name": "ipython",
    "version": 3
   },
   "file_extension": ".py",
   "mimetype": "text/x-python",
   "name": "python",
   "nbconvert_exporter": "python",
   "pygments_lexer": "ipython3",
   "version": "3.7.3"
  }
 },
 "nbformat": 4,
 "nbformat_minor": 2
}
