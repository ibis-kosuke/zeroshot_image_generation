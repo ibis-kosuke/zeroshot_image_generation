{
 "cells": [
  {
   "cell_type": "code",
   "execution_count": 7,
   "metadata": {},
   "outputs": [],
   "source": [
    "import os\n",
    "import pickle as pkl\n",
    "import re\n",
    "import numpy as np"
   ]
  },
  {
   "cell_type": "code",
   "execution_count": 10,
   "metadata": {},
   "outputs": [],
   "source": [
    "data_dir = \"/data/unagi0/ktokitake/birds_attngan\"\n",
    "att_dir = os.path.join(data_dir, \"CUB_200_2011/attributes/attributes.txt\")\n"
   ]
  },
  {
   "cell_type": "code",
   "execution_count": 8,
   "metadata": {},
   "outputs": [],
   "source": [
    "att_num_data=[]\n",
    "with open(att_dir, \"r\" ) as f:\n",
    "    now = \"\"\n",
    "    for i, line in enumerate(f.readlines(), 1):\n",
    "        line = re.split(\" |::\", line)\n",
    "        if(now!=line[1]):\n",
    "            att_num_data.append(i)\n",
    "            now = line[1]\n",
    "    att_num_data.append(312+1)\n",
    "\n",
    "att_num_data = np.array(att_num_data)\n",
    "num_att = att_num_data[1:] - att_num_data[0:-1]\n"
   ]
  },
  {
   "cell_type": "code",
   "execution_count": 9,
   "metadata": {},
   "outputs": [
    {
     "name": "stdout",
     "output_type": "stream",
     "text": [
      "[ 9 15 15 15  4 15  6 15 11 15 15 14  3 15 15 15 15  5  5 14  4  4  4 15\n",
      " 15 15 15  4]\n"
     ]
    }
   ],
   "source": [
    "print(num_att)"
   ]
  },
  {
   "cell_type": "code",
   "execution_count": 11,
   "metadata": {},
   "outputs": [],
   "source": [
    "with open(data_dir+\"/att_num.pickle\", \"wb\" ) as f:\n",
    "    pkl.dump(num_att, f)"
   ]
  },
  {
   "cell_type": "code",
   "execution_count": 12,
   "metadata": {},
   "outputs": [
    {
     "name": "stdout",
     "output_type": "stream",
     "text": [
      "[10 16 16 16  5 16  7 16 12 16 16 15  4 16 16 16 16  6  6 15  5  5  5 16\n",
      " 16 16 16  5]\n"
     ]
    }
   ],
   "source": [
    "print(num_att+1)"
   ]
  },
  {
   "cell_type": "code",
   "execution_count": 14,
   "metadata": {},
   "outputs": [],
   "source": [
    "num_att+=1"
   ]
  },
  {
   "cell_type": "code",
   "execution_count": 15,
   "metadata": {},
   "outputs": [
    {
     "name": "stdout",
     "output_type": "stream",
     "text": [
      "[10 16 16 16  5 16  7 16 12 16 16 15  4 16 16 16 16  6  6 15  5  5  5 16\n",
      " 16 16 16  5]\n"
     ]
    }
   ],
   "source": [
    "print(num_att)"
   ]
  },
  {
   "cell_type": "code",
   "execution_count": null,
   "metadata": {},
   "outputs": [],
   "source": []
  }
 ],
 "metadata": {
  "kernelspec": {
   "display_name": "Python 3",
   "language": "python",
   "name": "python3"
  },
  "language_info": {
   "codemirror_mode": {
    "name": "ipython",
    "version": 3
   },
   "file_extension": ".py",
   "mimetype": "text/x-python",
   "name": "python",
   "nbconvert_exporter": "python",
   "pygments_lexer": "ipython3",
   "version": "3.7.3"
  }
 },
 "nbformat": 4,
 "nbformat_minor": 2
}
